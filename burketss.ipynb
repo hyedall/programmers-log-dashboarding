{
 "cells": [
  {
   "cell_type": "code",
   "execution_count": 33,
   "metadata": {},
   "outputs": [],
   "source": [
    "import pymysql\n",
    "import configparser\n",
    "import csv\n",
    "import boto3\n",
    "import re\n",
    "import pandas as pd\n",
    "from typing import *"
   ]
  },
  {
   "cell_type": "code",
   "execution_count": 35,
   "metadata": {},
   "outputs": [],
   "source": [
    "# parser = configparser.ConfigParser()\n",
    "# parser.read(\"pipeline.conf\")\n",
    "\n",
    "hostname = 'localhost'\n",
    "port = 3306\n",
    "user = 'root'\n",
    "password = 'ifnt0609'\n",
    "db = 'log_project'"
   ]
  },
  {
   "cell_type": "code",
   "execution_count": 38,
   "metadata": {},
   "outputs": [],
   "source": [
    "db = pymysql.connect(\n",
    "        host=hostname,\n",
    "        user=user,\n",
    "        password=password,\n",
    "        db=db,\n",
    "        port=int(port)\n",
    "    )\n",
    "\n",
    "cursor = db.cursor()"
   ]
  },
  {
   "cell_type": "code",
   "execution_count": 37,
   "metadata": {},
   "outputs": [],
   "source": [
    "log_csv = pd.read_csv('order_extrect_log.csv')"
   ]
  },
  {
   "cell_type": "code",
   "execution_count": 41,
   "metadata": {},
   "outputs": [
    {
     "name": "stdout",
     "output_type": "stream",
     "text": [
      "index :  0\n",
      "row :  id                                                                  0\n",
      "ip                                                     109.98.152.240\n",
      "time                                              2023-05-31 16:50:57\n",
      "first_redirect                                https://www.tistory.com\n",
      "present_redirect    http://www.carter.info/list/categories/search/...\n",
      "method                                                           POST\n",
      "request                                 /posts/posts/explore HTTP/1.0\n",
      "status                                                            200\n",
      "byte                                                             4968\n",
      "version                                                   Mozilla/5.0\n",
      "os                                                            Windows\n",
      "public              AppleWebKit/533.0 (KHTML, like Gecko) Chrome/5...\n",
      "browser                                                  Safari/533.0\n",
      "location                                                           YT\n",
      "Name: 0, dtype: object\n"
     ]
    }
   ],
   "source": [
    "for index, row in log_csv.iterrows():\n",
    "    print('index : ', index)\n",
    "    print('row : ' , row)\n",
    "    break"
   ]
  },
  {
   "cell_type": "code",
   "execution_count": null,
   "metadata": {},
   "outputs": [],
   "source": [
    "for index, row in log_csv.iterrows():\n",
    "    query = f\"INSERT INTO log (ip, time, first_redirect, present_redirect, method, request, \\\n",
    "                                status, byte, version, os, public, browser, location) VALUES \\\n",
    "        (\\\n",
    "        '{row['ip']}', '{row['time']}', '{row['first_redirect']}', \\\n",
    "        '{row['present_redirect']}', '{row['method']}', '{row['request']}', \\\n",
    "        '{row['status']}', '{row['byte']}', '{row['version']}', \\\n",
    "        '{row['os']}', '{row['public']}', '{row['browser']}', '{row['location']}'\\\n",
    "        )\""
   ]
  },
  {
   "cell_type": "code",
   "execution_count": null,
   "metadata": {},
   "outputs": [],
   "source": [
    "for index, row in df.iterrows():\n",
    "    query = f\"INSERT INTO log (ip, time, first_redirect, present_redirect, method, request, \\\n",
    "                                status, byte, version, os, public, browser, location) VALUES \\\n",
    "        (\\\n",
    "        '{row['ip']}', '{row['time']}', '{row['first_redirect']}', \\\n",
    "        '{row['present_redirect']}', '{row['method']}', '{row['request']}', \\\n",
    "        '{row['status']}', '{row['byte']}', '{row['version']}', \\\n",
    "        '{row['os']}', '{row['public']}', '{row['browser']}', '{row['location']}'\\\n",
    "        )\"\n",
    "    with db.cursor() as cursor: # 커서 가져오기 \n",
    "        cursor.execute(query)\n",
    "    db.commit()   "
   ]
  },
  {
   "cell_type": "code",
   "execution_count": null,
   "metadata": {},
   "outputs": [],
   "source": [
    "import pymysql\n",
    "\n",
    "db = pymysql.connect(host='localhost', port=3306, user='root', passwd='ifnt0609', db='ecommerce', charset='utf8')\n",
    "log_db = db.cursor()\n",
    "sql = \"\"\"\n",
    "    CREATE TABLE product (\n",
    "        PRODUCT_CODE VARCHAR(20) NOT NULL,\n",
    "        TITLE VARCHAR(200) NOT NULL,\n",
    "        ORI_PRICE INT,\n",
    "        DISCOUNT_PRICE INT,\n",
    "        DISCOUNT_PERCENT INT,\n",
    "        DELIVERY VARCHAR(2),\n",
    "        PRIMARY KEY(PRODUCT_CODE)\n",
    "    );\n",
    "\"\"\""
   ]
  },
  {
   "cell_type": "code",
   "execution_count": 7,
   "metadata": {},
   "outputs": [
    {
     "ename": "NoSectionError",
     "evalue": "No section: 'mysql_config'",
     "output_type": "error",
     "traceback": [
      "\u001b[0;31m---------------------------------------------------------------------------\u001b[0m",
      "\u001b[0;31mNoSectionError\u001b[0m                            Traceback (most recent call last)",
      "Cell \u001b[0;32mIn[7], line 2\u001b[0m\n\u001b[1;32m      1\u001b[0m \u001b[39m# mysql \u001b[39;00m\n\u001b[0;32m----> 2\u001b[0m hostname \u001b[39m=\u001b[39m parser\u001b[39m.\u001b[39;49mget(\u001b[39m\"\u001b[39;49m\u001b[39mmysql_config\u001b[39;49m\u001b[39m\"\u001b[39;49m, \u001b[39m\"\u001b[39;49m\u001b[39mhost\u001b[39;49m\u001b[39m\"\u001b[39;49m)\n\u001b[1;32m      3\u001b[0m port \u001b[39m=\u001b[39m parser\u001b[39m.\u001b[39mget(\u001b[39m\"\u001b[39m\u001b[39mmysql_config\u001b[39m\u001b[39m\"\u001b[39m, \u001b[39m\"\u001b[39m\u001b[39mport\u001b[39m\u001b[39m\"\u001b[39m)\n\u001b[1;32m      4\u001b[0m user \u001b[39m=\u001b[39m parser\u001b[39m.\u001b[39mget(\u001b[39m\"\u001b[39m\u001b[39mmysql_config\u001b[39m\u001b[39m\"\u001b[39m, \u001b[39m\"\u001b[39m\u001b[39muser\u001b[39m\u001b[39m\"\u001b[39m)\n",
      "File \u001b[0;32m~/opt/miniconda3/lib/python3.9/configparser.py:781\u001b[0m, in \u001b[0;36mRawConfigParser.get\u001b[0;34m(self, section, option, raw, vars, fallback)\u001b[0m\n\u001b[1;32m    766\u001b[0m \u001b[39m\"\"\"Get an option value for a given section.\u001b[39;00m\n\u001b[1;32m    767\u001b[0m \n\u001b[1;32m    768\u001b[0m \u001b[39mIf `vars' is provided, it must be a dictionary. The option is looked up\u001b[39;00m\n\u001b[0;32m   (...)\u001b[0m\n\u001b[1;32m    778\u001b[0m \u001b[39mThe section DEFAULT is special.\u001b[39;00m\n\u001b[1;32m    779\u001b[0m \u001b[39m\"\"\"\u001b[39;00m\n\u001b[1;32m    780\u001b[0m \u001b[39mtry\u001b[39;00m:\n\u001b[0;32m--> 781\u001b[0m     d \u001b[39m=\u001b[39m \u001b[39mself\u001b[39;49m\u001b[39m.\u001b[39;49m_unify_values(section, \u001b[39mvars\u001b[39;49m)\n\u001b[1;32m    782\u001b[0m \u001b[39mexcept\u001b[39;00m NoSectionError:\n\u001b[1;32m    783\u001b[0m     \u001b[39mif\u001b[39;00m fallback \u001b[39mis\u001b[39;00m _UNSET:\n",
      "File \u001b[0;32m~/opt/miniconda3/lib/python3.9/configparser.py:1152\u001b[0m, in \u001b[0;36mRawConfigParser._unify_values\u001b[0;34m(self, section, vars)\u001b[0m\n\u001b[1;32m   1150\u001b[0m \u001b[39mexcept\u001b[39;00m \u001b[39mKeyError\u001b[39;00m:\n\u001b[1;32m   1151\u001b[0m     \u001b[39mif\u001b[39;00m section \u001b[39m!=\u001b[39m \u001b[39mself\u001b[39m\u001b[39m.\u001b[39mdefault_section:\n\u001b[0;32m-> 1152\u001b[0m         \u001b[39mraise\u001b[39;00m NoSectionError(section) \u001b[39mfrom\u001b[39;00m \u001b[39mNone\u001b[39m\n\u001b[1;32m   1153\u001b[0m \u001b[39m# Update with the entry specific variables\u001b[39;00m\n\u001b[1;32m   1154\u001b[0m vardict \u001b[39m=\u001b[39m {}\n",
      "\u001b[0;31mNoSectionError\u001b[0m: No section: 'mysql_config'"
     ]
    }
   ],
   "source": [
    "# mysql \n",
    "hostname = parser.get(\"mysql_config\", \"host\")\n",
    "port = parser.get(\"mysql_config\", \"port\")\n",
    "user = parser.get(\"mysql_config\", \"user\")\n",
    "password = parser.get(\"mysql_config\", \"password\")\n",
    "db = parser.get(\"mysql_config\", \"db\")"
   ]
  },
  {
   "attachments": {},
   "cell_type": "markdown",
   "metadata": {},
   "source": [
    "### 데이터 살펴보기"
   ]
  },
  {
   "cell_type": "code",
   "execution_count": 10,
   "metadata": {},
   "outputs": [
    {
     "data": {
      "text/html": [
       "<div>\n",
       "<style scoped>\n",
       "    .dataframe tbody tr th:only-of-type {\n",
       "        vertical-align: middle;\n",
       "    }\n",
       "\n",
       "    .dataframe tbody tr th {\n",
       "        vertical-align: top;\n",
       "    }\n",
       "\n",
       "    .dataframe thead th {\n",
       "        text-align: right;\n",
       "    }\n",
       "</style>\n",
       "<table border=\"1\" class=\"dataframe\">\n",
       "  <thead>\n",
       "    <tr style=\"text-align: right;\">\n",
       "      <th></th>\n",
       "      <th>id</th>\n",
       "      <th>ip</th>\n",
       "      <th>time</th>\n",
       "      <th>first_redirect</th>\n",
       "      <th>present_redirect</th>\n",
       "      <th>method</th>\n",
       "      <th>request</th>\n",
       "      <th>status</th>\n",
       "      <th>byte</th>\n",
       "      <th>version</th>\n",
       "      <th>os</th>\n",
       "      <th>public</th>\n",
       "      <th>browser</th>\n",
       "      <th>location</th>\n",
       "    </tr>\n",
       "  </thead>\n",
       "  <tbody>\n",
       "    <tr>\n",
       "      <th>0</th>\n",
       "      <td>0</td>\n",
       "      <td>109.98.152.240</td>\n",
       "      <td>2023-05-31 16:50:57</td>\n",
       "      <td>https://www.tistory.com</td>\n",
       "      <td>http://www.carter.info/list/categories/search/...</td>\n",
       "      <td>POST</td>\n",
       "      <td>/posts/posts/explore HTTP/1.0</td>\n",
       "      <td>200</td>\n",
       "      <td>4968</td>\n",
       "      <td>Mozilla/5.0</td>\n",
       "      <td>Windows</td>\n",
       "      <td>AppleWebKit/533.0 (KHTML, like Gecko) Chrome/5...</td>\n",
       "      <td>Safari/533.0</td>\n",
       "      <td>YT</td>\n",
       "    </tr>\n",
       "    <tr>\n",
       "      <th>1</th>\n",
       "      <td>1</td>\n",
       "      <td>212.25.28.79</td>\n",
       "      <td>2023-05-31 16:52:34</td>\n",
       "      <td>https://www.naver.com</td>\n",
       "      <td>https://ruiz.com/</td>\n",
       "      <td>GET</td>\n",
       "      <td>/wp-admin HTTP/1.0</td>\n",
       "      <td>404</td>\n",
       "      <td>4997</td>\n",
       "      <td>Mozilla/5.0</td>\n",
       "      <td>Linux</td>\n",
       "      <td>Gecko/6042-12-05 16:21:39</td>\n",
       "      <td>Firefox/4.0</td>\n",
       "      <td>SV</td>\n",
       "    </tr>\n",
       "    <tr>\n",
       "      <th>2</th>\n",
       "      <td>2</td>\n",
       "      <td>88.220.148.112</td>\n",
       "      <td>2023-05-31 16:55:44</td>\n",
       "      <td>https://www.instagram.com</td>\n",
       "      <td>http://www.donaldson-murphy.com/</td>\n",
       "      <td>PUT</td>\n",
       "      <td>/search/tag/list HTTP/1.0</td>\n",
       "      <td>200</td>\n",
       "      <td>5036</td>\n",
       "      <td>Mozilla/5.0</td>\n",
       "      <td>Linux</td>\n",
       "      <td>AppleWebKit/534.1 (KHTML, like Gecko) Chrome/2...</td>\n",
       "      <td>Safari/534.1</td>\n",
       "      <td>RW</td>\n",
       "    </tr>\n",
       "    <tr>\n",
       "      <th>3</th>\n",
       "      <td>3</td>\n",
       "      <td>177.137.26.186</td>\n",
       "      <td>2023-05-31 17:03:41</td>\n",
       "      <td>https://www.instagram.com</td>\n",
       "      <td>http://www.cruz.com/posts/homepage/</td>\n",
       "      <td>GET</td>\n",
       "      <td>/posts/posts/explore HTTP/1.0</td>\n",
       "      <td>200</td>\n",
       "      <td>4943</td>\n",
       "      <td>Mozilla/5.0</td>\n",
       "      <td>Windows</td>\n",
       "      <td>Gecko/5669-03-11 19:58:18</td>\n",
       "      <td>Firefox/3.6.18</td>\n",
       "      <td>CN</td>\n",
       "    </tr>\n",
       "    <tr>\n",
       "      <th>4</th>\n",
       "      <td>4</td>\n",
       "      <td>19.149.66.194</td>\n",
       "      <td>2023-05-31 17:05:29</td>\n",
       "      <td>https://www.zoom.com</td>\n",
       "      <td>https://www.kelly-yoder.com/</td>\n",
       "      <td>PUT</td>\n",
       "      <td>/search/tag/list HTTP/1.0</td>\n",
       "      <td>200</td>\n",
       "      <td>4998</td>\n",
       "      <td>Mozilla/5.0</td>\n",
       "      <td>Linux</td>\n",
       "      <td>AppleWebKit/533.0 (KHTML, like Gecko) Chrome/3...</td>\n",
       "      <td>Safari/533.0</td>\n",
       "      <td>CM</td>\n",
       "    </tr>\n",
       "  </tbody>\n",
       "</table>\n",
       "</div>"
      ],
      "text/plain": [
       "   id              ip                 time             first_redirect  \\\n",
       "0   0  109.98.152.240  2023-05-31 16:50:57    https://www.tistory.com   \n",
       "1   1    212.25.28.79  2023-05-31 16:52:34      https://www.naver.com   \n",
       "2   2  88.220.148.112  2023-05-31 16:55:44  https://www.instagram.com   \n",
       "3   3  177.137.26.186  2023-05-31 17:03:41  https://www.instagram.com   \n",
       "4   4   19.149.66.194  2023-05-31 17:05:29       https://www.zoom.com   \n",
       "\n",
       "                                    present_redirect method  \\\n",
       "0  http://www.carter.info/list/categories/search/...   POST   \n",
       "1                                  https://ruiz.com/    GET   \n",
       "2                   http://www.donaldson-murphy.com/    PUT   \n",
       "3                http://www.cruz.com/posts/homepage/    GET   \n",
       "4                       https://www.kelly-yoder.com/    PUT   \n",
       "\n",
       "                         request  status  byte      version       os  \\\n",
       "0  /posts/posts/explore HTTP/1.0     200  4968  Mozilla/5.0  Windows   \n",
       "1             /wp-admin HTTP/1.0     404  4997  Mozilla/5.0    Linux   \n",
       "2      /search/tag/list HTTP/1.0     200  5036  Mozilla/5.0    Linux   \n",
       "3  /posts/posts/explore HTTP/1.0     200  4943  Mozilla/5.0  Windows   \n",
       "4      /search/tag/list HTTP/1.0     200  4998  Mozilla/5.0    Linux   \n",
       "\n",
       "                                              public         browser location  \n",
       "0  AppleWebKit/533.0 (KHTML, like Gecko) Chrome/5...    Safari/533.0       YT  \n",
       "1                          Gecko/6042-12-05 16:21:39     Firefox/4.0       SV  \n",
       "2  AppleWebKit/534.1 (KHTML, like Gecko) Chrome/2...    Safari/534.1       RW  \n",
       "3                          Gecko/5669-03-11 19:58:18  Firefox/3.6.18       CN  \n",
       "4  AppleWebKit/533.0 (KHTML, like Gecko) Chrome/3...    Safari/533.0       CM  "
      ]
     },
     "execution_count": 10,
     "metadata": {},
     "output_type": "execute_result"
    }
   ],
   "source": [
    "import pandas as pd\n",
    "\n",
    "log_csv = pd.read_csv('order_extrect_log.csv')\n",
    "log_csv.head()"
   ]
  },
  {
   "cell_type": "code",
   "execution_count": 42,
   "metadata": {},
   "outputs": [
    {
     "data": {
      "text/plain": [
       "time\n",
       "2023-05-31 16:50:57    1\n",
       "2023-07-02 00:49:46    1\n",
       "2023-07-02 00:47:31    1\n",
       "2023-07-02 00:45:01    1\n",
       "2023-07-02 00:42:35    1\n",
       "                      ..\n",
       "2023-06-16 09:50:49    1\n",
       "2023-06-16 09:45:51    1\n",
       "2023-06-16 09:44:22    1\n",
       "2023-06-16 09:40:53    1\n",
       "2023-07-17 17:15:57    1\n",
       "Length: 23255, dtype: int64"
      ]
     },
     "execution_count": 42,
     "metadata": {},
     "output_type": "execute_result"
    }
   ],
   "source": [
    "log_csv.value_counts('time')"
   ]
  },
  {
   "cell_type": "code",
   "execution_count": 13,
   "metadata": {},
   "outputs": [
    {
     "name": "stdout",
     "output_type": "stream",
     "text": [
      "<class 'pandas.core.frame.DataFrame'>\n",
      "RangeIndex: 23255 entries, 0 to 23254\n",
      "Data columns (total 14 columns):\n",
      " #   Column            Non-Null Count  Dtype \n",
      "---  ------            --------------  ----- \n",
      " 0   id                23255 non-null  int64 \n",
      " 1   ip                23255 non-null  object\n",
      " 2   time              23255 non-null  object\n",
      " 3   first_redirect    23255 non-null  object\n",
      " 4   present_redirect  23255 non-null  object\n",
      " 5   method            23255 non-null  object\n",
      " 6   request           23255 non-null  object\n",
      " 7   status            23255 non-null  int64 \n",
      " 8   byte              23255 non-null  int64 \n",
      " 9   version           23255 non-null  object\n",
      " 10  os                20272 non-null  object\n",
      " 11  public            23255 non-null  object\n",
      " 12  browser           23255 non-null  object\n",
      " 13  location          23159 non-null  object\n",
      "dtypes: int64(3), object(11)\n",
      "memory usage: 2.5+ MB\n"
     ]
    }
   ],
   "source": [
    "log_csv.info()"
   ]
  },
  {
   "cell_type": "code",
   "execution_count": 16,
   "metadata": {},
   "outputs": [
    {
     "data": {
      "text/plain": [
       "0"
      ]
     },
     "execution_count": 16,
     "metadata": {},
     "output_type": "execute_result"
    }
   ],
   "source": [
    "log_csv.duplicated().sum()"
   ]
  },
  {
   "cell_type": "code",
   "execution_count": 22,
   "metadata": {},
   "outputs": [
    {
     "data": {
      "text/plain": [
       "109.98.152.240     1\n",
       "151.115.62.57      1\n",
       "135.41.141.35      1\n",
       "51.34.30.176       1\n",
       "89.138.9.37        1\n",
       "                  ..\n",
       "102.239.211.249    1\n",
       "176.234.165.63     1\n",
       "199.11.79.117      1\n",
       "58.10.147.15       1\n",
       "152.99.234.192     1\n",
       "Name: ip, Length: 23255, dtype: int64"
      ]
     },
     "execution_count": 22,
     "metadata": {},
     "output_type": "execute_result"
    }
   ],
   "source": [
    "log_csv['ip'].value_counts()"
   ]
  },
  {
   "cell_type": "code",
   "execution_count": 23,
   "metadata": {},
   "outputs": [
    {
     "data": {
      "text/plain": [
       "https://www.linkedin.com     2671\n",
       "https://www.daum.com         2652\n",
       "https://www.youtube.com      2596\n",
       "https://www.zoom.com         2582\n",
       "https://www.instagram.com    2579\n",
       "https://www.tistory.com      2561\n",
       "https://www.facebook.com     2559\n",
       "https://www.naver.com        2554\n",
       "https://www.google.com       2501\n",
       "Name: first_redirect, dtype: int64"
      ]
     },
     "execution_count": 23,
     "metadata": {},
     "output_type": "execute_result"
    }
   ],
   "source": [
    "log_csv['first_redirect'].value_counts() "
   ]
  },
  {
   "cell_type": "code",
   "execution_count": 24,
   "metadata": {},
   "outputs": [
    {
     "data": {
      "text/plain": [
       "http://smith.com/                         14\n",
       "https://www.smith.com/                    12\n",
       "http://www.smith.com/                     11\n",
       "https://johnson.com/                      11\n",
       "https://smith.com/                        10\n",
       "                                          ..\n",
       "http://www.king.com/index.html             1\n",
       "http://www.anderson-hubbard.org/terms/     1\n",
       "https://chapman.com/category/              1\n",
       "http://www.summers.net/app/terms.html      1\n",
       "http://www.warner-stanley.biz/             1\n",
       "Name: present_redirect, Length: 22311, dtype: int64"
      ]
     },
     "execution_count": 24,
     "metadata": {},
     "output_type": "execute_result"
    }
   ],
   "source": [
    "log_csv['present_redirect'].value_counts() "
   ]
  },
  {
   "cell_type": "code",
   "execution_count": 25,
   "metadata": {},
   "outputs": [
    {
     "data": {
      "text/plain": [
       "Index(['id', 'ip', 'time', 'first_redirect', 'present_redirect', 'method',\n",
       "       'request', 'status', 'byte', 'version', 'os', 'public', 'browser',\n",
       "       'location'],\n",
       "      dtype='object')"
      ]
     },
     "execution_count": 25,
     "metadata": {},
     "output_type": "execute_result"
    }
   ],
   "source": [
    "log_csv.columns"
   ]
  },
  {
   "cell_type": "code",
   "execution_count": 26,
   "metadata": {},
   "outputs": [
    {
     "data": {
      "text/plain": [
       "200    20833\n",
       "301      974\n",
       "404      939\n",
       "500      509\n",
       "Name: status, dtype: int64"
      ]
     },
     "execution_count": 26,
     "metadata": {},
     "output_type": "execute_result"
    }
   ],
   "source": [
    "log_csv['status'].value_counts() "
   ]
  },
  {
   "cell_type": "code",
   "execution_count": 27,
   "metadata": {},
   "outputs": [
    {
     "data": {
      "text/plain": [
       "4996    213\n",
       "5003    210\n",
       "4994    208\n",
       "4980    207\n",
       "4998    207\n",
       "       ... \n",
       "5170      1\n",
       "5180      1\n",
       "4820      1\n",
       "4855      1\n",
       "5185      1\n",
       "Name: byte, Length: 347, dtype: int64"
      ]
     },
     "execution_count": 27,
     "metadata": {},
     "output_type": "execute_result"
    }
   ],
   "source": [
    "log_csv['byte'].value_counts() "
   ]
  },
  {
   "cell_type": "code",
   "execution_count": 28,
   "metadata": {},
   "outputs": [
    {
     "data": {
      "text/plain": [
       "Mozilla/5.0            22019\n",
       "Opera/9.91.(X11;          13\n",
       "Opera/9.96.(X11;          11\n",
       "Opera/9.86.(Windows        9\n",
       "Opera/8.42.(Windows        9\n",
       "                       ...  \n",
       "Opera/9.56.(Windows        1\n",
       "Opera/9.65.(Windows        1\n",
       "Opera/8.81.(Windows        1\n",
       "Opera/9.66.(Windows        1\n",
       "Opera/8.40.(Windows        1\n",
       "Name: version, Length: 351, dtype: int64"
      ]
     },
     "execution_count": 28,
     "metadata": {},
     "output_type": "execute_result"
    }
   ],
   "source": [
    "log_csv['version'].value_counts() "
   ]
  },
  {
   "cell_type": "code",
   "execution_count": 29,
   "metadata": {},
   "outputs": [
    {
     "data": {
      "text/plain": [
       "Mac        6669\n",
       "Linux      6135\n",
       "Windows    4683\n",
       "iPhone     2785\n",
       "Name: os, dtype: int64"
      ]
     },
     "execution_count": 29,
     "metadata": {},
     "output_type": "execute_result"
    }
   ],
   "source": [
    "log_csv['os'].value_counts() "
   ]
  },
  {
   "cell_type": "code",
   "execution_count": 30,
   "metadata": {},
   "outputs": [
    {
     "data": {
      "text/plain": [
       "Presto/2.9.172                                                           53\n",
       "Gecko/59.0                                                               51\n",
       "Presto/2.9.171                                                           51\n",
       "Gecko/44.0                                                               50\n",
       "Gecko/60.0                                                               49\n",
       "                                                                         ..\n",
       "Gecko/4120-06-07 18:32:43                                                 1\n",
       "AppleWebKit/535.20.3 (KHTML, like Gecko) Version/4.0.4                    1\n",
       "AppleWebKit/532.2 (KHTML, like Gecko) Chrome/49.0.867.0                   1\n",
       "AppleWebKit/532.1 (KHTML, like Gecko) FxiOS/9.3c6181.0 Mobile/72U637      1\n",
       "AppleWebKit/536.0 (KHTML, like Gecko) FxiOS/16.3n3437.0 Mobile/63V075     1\n",
       "Name: public, Length: 19503, dtype: int64"
      ]
     },
     "execution_count": 30,
     "metadata": {},
     "output_type": "execute_result"
    }
   ],
   "source": [
    "log_csv['public'].value_counts() "
   ]
  },
  {
   "cell_type": "code",
   "execution_count": 31,
   "metadata": {},
   "outputs": [
    {
     "data": {
      "text/plain": [
       "Firefox/3.8         2482\n",
       "Safari/532.2         586\n",
       "Safari/532.1         579\n",
       "Safari/535.0         566\n",
       "Safari/534.1         564\n",
       "                    ... \n",
       "Safari/6531.3.7        1\n",
       "Safari/531.26.4        1\n",
       "Safari/6532.4.5        1\n",
       "Safari/6532.20.3       1\n",
       "Safari/6531.23.6       1\n",
       "Name: browser, Length: 1795, dtype: int64"
      ]
     },
     "execution_count": 31,
     "metadata": {},
     "output_type": "execute_result"
    }
   ],
   "source": [
    "log_csv['browser'].value_counts() "
   ]
  },
  {
   "cell_type": "code",
   "execution_count": null,
   "metadata": {},
   "outputs": [],
   "source": []
  },
  {
   "cell_type": "code",
   "execution_count": 32,
   "metadata": {},
   "outputs": [
    {
     "data": {
      "text/plain": [
       "WF    123\n",
       "SO    120\n",
       "PH    120\n",
       "ZM    119\n",
       "NG    118\n",
       "     ... \n",
       "NU     76\n",
       "FI     74\n",
       "GS     74\n",
       "KN     73\n",
       "JM     67\n",
       "Name: location, Length: 248, dtype: int64"
      ]
     },
     "execution_count": 32,
     "metadata": {},
     "output_type": "execute_result"
    }
   ],
   "source": [
    "log_csv['location'].value_counts() "
   ]
  },
  {
   "cell_type": "code",
   "execution_count": null,
   "metadata": {},
   "outputs": [],
   "source": [
    "ELSEIF [선택] = '국가' THEN CASE STR([Location])\n",
    "    WHEN 'AD' THEN \"월요일\"\n",
    "   \n",
    "\n",
    "AE\n",
    "AF\n",
    "AG\n",
    "AI\n",
    "AL\n",
    "AM\n",
    "AO\n",
    "AQ\n",
    "AR\n",
    "AS\n",
    "AT\n",
    "AU\n",
    "AW\n",
    "AX\n",
    "AZ\n",
    "BA\n",
    "BB\n",
    "BD\n",
    "BE\n",
    "BF\n",
    "BG\n",
    "BH\n",
    "BI\n",
    "BJ\n",
    "BL\n",
    "BM\n",
    "BN\n",
    "BO\n",
    "BQ\n",
    "BR\n",
    "BS\n",
    "BT\n",
    "BV\n",
    "BW\n",
    "BY\n",
    "BZ\n",
    "CA\n",
    "CC\n",
    "CD\n",
    "CF\n",
    "CG\n",
    "CH\n",
    "CI\n",
    "CK\n",
    "CL\n",
    "CM\n",
    "CN\n",
    "CO\n",
    "CR\n",
    "CU\n",
    "CV\n",
    "CW\n",
    "CX\n",
    "CY\n",
    "CZ\n",
    "DE\n",
    "DJ\n",
    "DK\n",
    "DM\n",
    "DO\n",
    "DZ\n",
    "EC\n",
    "EE\n",
    "EG\n",
    "EH\n",
    "ER\n",
    "ES\n",
    "ET\n",
    "FI\n",
    "FJ\n",
    "FK\n",
    "FM\n",
    "FO\n",
    "FR\n",
    "GA\n",
    "GB\n",
    "GD\n",
    "GE\n",
    "GF\n",
    "GG\n",
    "GH\n",
    "GI\n",
    "GL\n",
    "GM\n",
    "GN\n",
    "GP\n",
    "GQ\n",
    "GR\n",
    "GS\n",
    "GT\n",
    "GU\n",
    "GW\n",
    "GY\n",
    "HK\n",
    "HM\n",
    "HN\n",
    "HR\n",
    "HT\n",
    "HU\n",
    "ID\n",
    "IE\n",
    "IL\n",
    "IM\n",
    "IN\n",
    "IO\n",
    "IQ\n",
    "IR\n",
    "IS\n",
    "IT\n",
    "JE\n",
    "JM\n",
    "JO\n",
    "JP\n",
    "KE\n",
    "KG\n",
    "KH\n",
    "KI\n",
    "KM\n",
    "KN\n",
    "KP\n",
    "KR\n",
    "KW\n",
    "KY\n",
    "KZ\n",
    "LA\n",
    "LB\n",
    "LC\n",
    "LK\n",
    "LI\n",
    "LR\n",
    "LS\n",
    "LT\n",
    "LU\n",
    "LV\n",
    "LY\n",
    "MA\n",
    "MC\n",
    "MD\n",
    "ME\n",
    "MF\n",
    "MG\n",
    "MH\n",
    "MK\n",
    "ML\n",
    "MM\n",
    "MN\n",
    "MO\n",
    "MP\n",
    "MQ\n",
    "MR\n",
    "MS\n",
    "MT\n",
    "MU\n",
    "MV\n",
    "MW\n",
    "MX\n",
    "MY\n",
    "MZ\n",
    "\"\"\n",
    "NC\n",
    "NE\n",
    "NF\n",
    "NG\n",
    "NI\n",
    "NL\n",
    "NO\n",
    "NP\n",
    "NR\n",
    "NU\n",
    "NZ\n",
    "OM\n",
    "PA\n",
    "PE\n",
    "PF\n",
    "PG\n",
    "PH\n",
    "PK\n",
    "PL\n",
    "PM\n",
    "PN\n",
    "PR\n",
    "PS\n",
    "PT\n",
    "PW\n",
    "PY\n",
    "QA\n",
    "RE\n",
    "RO\n",
    "RS\n",
    "RU\n",
    "RW\n",
    "SA\n",
    "SB\n",
    "SC\n",
    "SD\n",
    "SE\n",
    "SG\n",
    "SH\n",
    "SI\n",
    "SJ\n",
    "SK\n",
    "SL\n",
    "SM\n",
    "SN\n",
    "SO\n",
    "SR\n",
    "SS\n",
    "ST\n",
    "SV\n",
    "SX\n",
    "SY\n",
    "SZ\n",
    "TC\n",
    "TD\n",
    "TF\n",
    "TG\n",
    "TH\n",
    "TJ\n",
    "TK\n",
    "TL\n",
    "TM\n",
    "TN\n",
    "TO\n",
    "TR\n",
    "TT\n",
    "TV\n",
    "TW\n",
    "TZ\n",
    "UA\n",
    "UG\n",
    "UM\n",
    "US\n",
    "UY\n",
    "UZ\n",
    "VA\n",
    "VC\n",
    "VE\n",
    "VG\n",
    "VI\n",
    "VN\n",
    "VU\n",
    "WF\n",
    "WS\n",
    "YE\n",
    "YT\n",
    "ZA\n",
    "ZM\n",
    "ZW\n",
    "\n",
    "END"
   ]
  }
 ],
 "metadata": {
  "kernelspec": {
   "display_name": "base",
   "language": "python",
   "name": "python3"
  },
  "language_info": {
   "codemirror_mode": {
    "name": "ipython",
    "version": 3
   },
   "file_extension": ".py",
   "mimetype": "text/x-python",
   "name": "python",
   "nbconvert_exporter": "python",
   "pygments_lexer": "ipython3",
   "version": "3.9.15"
  },
  "orig_nbformat": 4
 },
 "nbformat": 4,
 "nbformat_minor": 2
}
